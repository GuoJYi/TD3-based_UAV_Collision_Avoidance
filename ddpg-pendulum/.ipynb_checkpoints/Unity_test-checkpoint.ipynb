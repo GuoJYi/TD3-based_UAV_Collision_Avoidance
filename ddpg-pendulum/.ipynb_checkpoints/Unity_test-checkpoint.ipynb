{
 "cells": [
  {
   "cell_type": "code",
   "execution_count": null,
   "metadata": {},
   "outputs": [],
   "source": [
    "import matplotlib.pyplot as plt\n",
    "import numpy as np\n",
    "import sys\n",
    "import torch\n",
    "\n",
    "from gym_unity.envs import UnityEnv\n",
    "from ddpg_agent import Agent\n",
    "\n",
    "%matplotlib inline"
   ]
  },
  {
   "cell_type": "code",
   "execution_count": null,
   "metadata": {},
   "outputs": [],
   "source": [
    "env_name = \"E:/RL/Test2/Env_Rocket/Test\"  # Name of the Unity environment binary to launch\n",
    "env = UnityEnv(env_name, worker_id=0)\n",
    "# Examine environment parameters\n",
    "print(str(env))"
   ]
  },
  {
   "cell_type": "code",
   "execution_count": null,
   "metadata": {
    "scrolled": false
   },
   "outputs": [],
   "source": [
    "for episode in range(10):\n",
    "    initial_observation = env.reset()\n",
    "    episode_rewards = 0\n",
    "    done = False\n",
    "    while not done:\n",
    "        observation, reward, done, info = env.step(env.action_space.sample())\n",
    "        print(reward)\n",
    "        print(done)\n",
    "        episode_rewards += reward\n",
    "#        if done:\n",
    "#           text = 'Success' if reward>0 else 'Failed'\n",
    "#            print(text, total_reward)\n",
    "#            break\n",
    "    print(\"Total reward this episode: {}\".format(episode_rewards))"
   ]
  },
  {
   "cell_type": "code",
   "execution_count": null,
   "metadata": {},
   "outputs": [],
   "source": [
    "agent = Agent(state_size=env.observation_space.shape[0], \n",
    "              action_size=env.action_space.shape[0], \n",
    "              random_seed=2)\n",
    "#agent.actor_local.load_state_dict(torch.load('checkpoint_actor.pth'))\n",
    "#agent.critic_local.load_state_dict(torch.load('checkpoint_critic.pth'))"
   ]
  },
  {
   "cell_type": "code",
   "execution_count": null,
   "metadata": {
    "scrolled": true
   },
   "outputs": [],
   "source": [
    "n_episodes = 1000\n",
    "agent.noise.sigma = 2\n",
    "scores = []\n",
    "success = []\n",
    "steps = 0\n",
    "for i_episode in range(1, n_episodes+1):\n",
    "    state = env.reset()\n",
    "    score = 0\n",
    "    while True:\n",
    "        steps += 1\n",
    "        action = agent.act(state)\n",
    "        next_state, reward, done, _ = env.step(action)\n",
    "        agent.step(state, action, reward, next_state, done)\n",
    "        state = next_state\n",
    "        score += reward\n",
    "        if done:\n",
    "            success += [reward>0]\n",
    "            break\n",
    "    scores += [score]\n",
    "    print('\\rEpisode', i_episode, 'Average Score: %.2f'%np.mean(scores[-20:]),\n",
    "          'Success rate %.2f'%np.mean(success[-20:]),\n",
    "          'Noise std: %.3f'%agent.noise.sigma,\n",
    "          end=\"\")\n",
    "    agent.noise.sigma *= 0.995\n",
    "    torch.save(agent.actor_local.state_dict(), 'easy_actor.pth')\n",
    "    torch.save(agent.critic_local.state_dict(), 'easy_critic.pth')"
   ]
  },
  {
   "cell_type": "code",
   "execution_count": null,
   "metadata": {},
   "outputs": [],
   "source": [
    "fig = plt.figure()\n",
    "ax = fig.add_subplot(111)\n",
    "plt.plot(scores[-100:])\n",
    "plt.ylabel('Score')\n",
    "plt.xlabel('Episode #')\n",
    "plt.show()"
   ]
  },
  {
   "cell_type": "code",
   "execution_count": null,
   "metadata": {},
   "outputs": [],
   "source": [
    "plt.plot(success[-100:])"
   ]
  },
  {
   "cell_type": "code",
   "execution_count": null,
   "metadata": {},
   "outputs": [],
   "source": [
    "for _ in range(5):\n",
    "    state = env.reset()\n",
    "    total_reward = 0\n",
    "    while True:\n",
    "        action = agent.act(state, add_noise=False)\n",
    "        state, reward, done = env.step(action)\n",
    "        total_reward += reward\n",
    "        if done:\n",
    "            text = 'Success' if reward>0 else 'Failed'\n",
    "            print(text, total_reward)\n",
    "            break"
   ]
  },
  {
   "cell_type": "code",
   "execution_count": null,
   "metadata": {},
   "outputs": [],
   "source": [
    "env.close()"
   ]
  },
  {
   "cell_type": "code",
   "execution_count": null,
   "metadata": {},
   "outputs": [],
   "source": []
  }
 ],
 "metadata": {
  "kernelspec": {
   "display_name": "Python 3",
   "language": "python",
   "name": "python3"
  },
  "language_info": {
   "codemirror_mode": {
    "name": "ipython",
    "version": 3
   },
   "file_extension": ".py",
   "mimetype": "text/x-python",
   "name": "python",
   "nbconvert_exporter": "python",
   "pygments_lexer": "ipython3",
   "version": "3.6.10"
  }
 },
 "nbformat": 4,
 "nbformat_minor": 4
}
